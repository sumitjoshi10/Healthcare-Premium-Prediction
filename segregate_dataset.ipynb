{
 "cells": [
  {
   "cell_type": "code",
   "execution_count": 3,
   "id": "3e1b1582",
   "metadata": {},
   "outputs": [],
   "source": [
    "import pandas as pd"
   ]
  },
  {
   "cell_type": "code",
   "execution_count": 5,
   "id": "57ddab11",
   "metadata": {},
   "outputs": [
    {
     "data": {
      "text/html": [
       "<div>\n",
       "<style scoped>\n",
       "    .dataframe tbody tr th:only-of-type {\n",
       "        vertical-align: middle;\n",
       "    }\n",
       "\n",
       "    .dataframe tbody tr th {\n",
       "        vertical-align: top;\n",
       "    }\n",
       "\n",
       "    .dataframe thead th {\n",
       "        text-align: right;\n",
       "    }\n",
       "</style>\n",
       "<table border=\"1\" class=\"dataframe\">\n",
       "  <thead>\n",
       "    <tr style=\"text-align: right;\">\n",
       "      <th></th>\n",
       "      <th>Age</th>\n",
       "      <th>Gender</th>\n",
       "      <th>Region</th>\n",
       "      <th>Marital_status</th>\n",
       "      <th>Number Of Dependants</th>\n",
       "      <th>BMI_Category</th>\n",
       "      <th>Smoking_Status</th>\n",
       "      <th>Employment_Status</th>\n",
       "      <th>Income_Level</th>\n",
       "      <th>Income_Lakhs</th>\n",
       "      <th>Medical History</th>\n",
       "      <th>Insurance_Plan</th>\n",
       "      <th>Annual_Premium_Amount</th>\n",
       "    </tr>\n",
       "  </thead>\n",
       "  <tbody>\n",
       "    <tr>\n",
       "      <th>0</th>\n",
       "      <td>26</td>\n",
       "      <td>Male</td>\n",
       "      <td>Northwest</td>\n",
       "      <td>Unmarried</td>\n",
       "      <td>0</td>\n",
       "      <td>Normal</td>\n",
       "      <td>No Smoking</td>\n",
       "      <td>Salaried</td>\n",
       "      <td>&lt;10L</td>\n",
       "      <td>6</td>\n",
       "      <td>Diabetes</td>\n",
       "      <td>Bronze</td>\n",
       "      <td>9053</td>\n",
       "    </tr>\n",
       "    <tr>\n",
       "      <th>1</th>\n",
       "      <td>29</td>\n",
       "      <td>Female</td>\n",
       "      <td>Southeast</td>\n",
       "      <td>Married</td>\n",
       "      <td>2</td>\n",
       "      <td>Obesity</td>\n",
       "      <td>Regular</td>\n",
       "      <td>Salaried</td>\n",
       "      <td>&lt;10L</td>\n",
       "      <td>6</td>\n",
       "      <td>Diabetes</td>\n",
       "      <td>Bronze</td>\n",
       "      <td>16339</td>\n",
       "    </tr>\n",
       "  </tbody>\n",
       "</table>\n",
       "</div>"
      ],
      "text/plain": [
       "   Age  Gender     Region Marital_status  Number Of Dependants BMI_Category  \\\n",
       "0   26    Male  Northwest      Unmarried                     0       Normal   \n",
       "1   29  Female  Southeast        Married                     2      Obesity   \n",
       "\n",
       "  Smoking_Status Employment_Status Income_Level  Income_Lakhs Medical History  \\\n",
       "0     No Smoking          Salaried         <10L             6        Diabetes   \n",
       "1        Regular          Salaried         <10L             6        Diabetes   \n",
       "\n",
       "  Insurance_Plan  Annual_Premium_Amount  \n",
       "0         Bronze                   9053  \n",
       "1         Bronze                  16339  "
      ]
     },
     "execution_count": 5,
     "metadata": {},
     "output_type": "execute_result"
    }
   ],
   "source": [
    "df = pd.read_excel('premiums.xlsx')\n",
    "df.head(2)"
   ]
  },
  {
   "cell_type": "code",
   "execution_count": 6,
   "id": "b6b145ef",
   "metadata": {},
   "outputs": [
    {
     "data": {
      "text/plain": [
       "((20096, 13), (29904, 13))"
      ]
     },
     "execution_count": 6,
     "metadata": {},
     "output_type": "execute_result"
    }
   ],
   "source": [
    "df_young = df[df['Age']<=25]\n",
    "df_rest = df[df['Age']>25]\n",
    "\n",
    "df_young.shape,df_rest.shape"
   ]
  },
  {
   "cell_type": "code",
   "execution_count": 7,
   "id": "6b227b2e",
   "metadata": {},
   "outputs": [],
   "source": [
    "df_young.to_excel('premium_young.xlsx',index=False)\n",
    "df_rest.to_excel('premiums_rest.xlsx',index=False)"
   ]
  },
  {
   "cell_type": "code",
   "execution_count": null,
   "id": "8971b1e5",
   "metadata": {},
   "outputs": [],
   "source": []
  }
 ],
 "metadata": {
  "kernelspec": {
   "display_name": ".env",
   "language": "python",
   "name": "python3"
  },
  "language_info": {
   "codemirror_mode": {
    "name": "ipython",
    "version": 3
   },
   "file_extension": ".py",
   "mimetype": "text/x-python",
   "name": "python",
   "nbconvert_exporter": "python",
   "pygments_lexer": "ipython3",
   "version": "3.13.2"
  }
 },
 "nbformat": 4,
 "nbformat_minor": 5
}
